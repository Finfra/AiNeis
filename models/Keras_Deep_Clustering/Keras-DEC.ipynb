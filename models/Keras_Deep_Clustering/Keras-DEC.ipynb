{
 "cells": [
  {
   "cell_type": "markdown",
   "metadata": {},
   "source": [
    "# [How to do Unsupervised Clustering with Keras](https://www.dlology.com/blog/how-to-do-unsupervised-clustering-with-keras/) | DLology\n",
    "\n",
    "Read my blog post for details."
   ]
  },
  {
   "cell_type": "code",
   "execution_count": 1,
   "metadata": {},
   "outputs": [
    {
     "name": "stderr",
     "output_type": "stream",
     "text": [
      "2022-12-09 17:54:50.358153: I tensorflow/core/platform/cpu_feature_guard.cc:193] This TensorFlow binary is optimized with oneAPI Deep Neural Network Library (oneDNN) to use the following CPU instructions in performance-critical operations:  AVX2 FMA\n",
      "To enable them in other operations, rebuild TensorFlow with the appropriate compiler flags.\n",
      "2022-12-09 17:54:50.977766: W tensorflow/compiler/xla/stream_executor/platform/default/dso_loader.cc:64] Could not load dynamic library 'libnvinfer.so.7'; dlerror: libnvinfer.so.7: cannot open shared object file: No such file or directory; LD_LIBRARY_PATH: /usr/local/cuda-11.2/lib64:/usr/local/cuda-11.2/lib64::/usr/local/cuda-10.1/targets/x86_64-linux/lib/:/usr/local/cuda/extras/CUPTI/lib64:/usr/local/cuda-10.1/targets/x86_64-linux/lib/:/usr/local/cuda/extras/CUPTI/lib64\n",
      "2022-12-09 17:54:50.977838: W tensorflow/compiler/xla/stream_executor/platform/default/dso_loader.cc:64] Could not load dynamic library 'libnvinfer_plugin.so.7'; dlerror: libnvinfer_plugin.so.7: cannot open shared object file: No such file or directory; LD_LIBRARY_PATH: /usr/local/cuda-11.2/lib64:/usr/local/cuda-11.2/lib64::/usr/local/cuda-10.1/targets/x86_64-linux/lib/:/usr/local/cuda/extras/CUPTI/lib64:/usr/local/cuda-10.1/targets/x86_64-linux/lib/:/usr/local/cuda/extras/CUPTI/lib64\n",
      "2022-12-09 17:54:50.977846: W tensorflow/compiler/tf2tensorrt/utils/py_utils.cc:38] TF-TRT Warning: Cannot dlopen some TensorRT libraries. If you would like to use Nvidia GPU with TensorRT, please make sure the missing libraries mentioned above are installed properly.\n"
     ]
    }
   ],
   "source": [
    "from tensorflow.keras.datasets import mnist\n",
    "import numpy as np\n",
    "np.random.seed(10)"
   ]
  },
  {
   "cell_type": "code",
   "execution_count": 2,
   "metadata": {},
   "outputs": [],
   "source": [
    "from time import time\n",
    "import numpy as np\n",
    "import tensorflow.keras.backend as K\n",
    "from tensorflow.keras.layers import Layer, InputSpec\n",
    "from tensorflow.keras.layers import Dense, Input\n",
    "from tensorflow.keras.models import Model\n",
    "from tensorflow.keras.optimizers import SGD\n",
    "from tensorflow.keras import callbacks\n",
    "from tensorflow.keras.initializers import VarianceScaling\n",
    "from sklearn.cluster import KMeans\n",
    "import metrics\n",
    "\n"
   ]
  },
  {
   "cell_type": "code",
   "execution_count": 3,
   "metadata": {},
   "outputs": [],
   "source": [
    "\n",
    "def autoencoder(dims, act='relu', init='glorot_uniform'):\n",
    "    \"\"\"\n",
    "    Fully connected auto-encoder model, symmetric.\n",
    "    Arguments:\n",
    "        dims: list of number of units in each layer of encoder. dims[0] is input dim, dims[-1] is units in hidden layer.\n",
    "            The decoder is symmetric with encoder. So number of layers of the auto-encoder is 2*len(dims)-1\n",
    "        act: activation, not applied to Input, Hidden and Output layers\n",
    "    return:\n",
    "        (ae_model, encoder_model), Model of autoencoder and model of encoder\n",
    "    \"\"\"\n",
    "    n_stacks = len(dims) - 1\n",
    "    # input\n",
    "    input_img = Input(shape=(dims[0],), name='input')\n",
    "    x = input_img\n",
    "    # internal layers in encoder\n",
    "    for i in range(n_stacks-1):\n",
    "        x = Dense(dims[i + 1], activation=act, kernel_initializer=init, name='encoder_%d' % i)(x)\n",
    "\n",
    "    # hidden layer\n",
    "    encoded = Dense(dims[-1], kernel_initializer=init, name='encoder_%d' % (n_stacks - 1))(x)  # hidden layer, features are extracted from here\n",
    "\n",
    "    x = encoded\n",
    "    # internal layers in decoder\n",
    "    for i in range(n_stacks-1, 0, -1):\n",
    "        x = Dense(dims[i], activation=act, kernel_initializer=init, name='decoder_%d' % i)(x)\n",
    "\n",
    "    # output\n",
    "    x = Dense(dims[0], kernel_initializer=init, name='decoder_0')(x)\n",
    "    decoded = x\n",
    "    return Model(inputs=input_img, outputs=decoded, name='AE'), Model(inputs=input_img, outputs=encoded, name='encoder')\n"
   ]
  },
  {
   "cell_type": "code",
   "execution_count": 4,
   "metadata": {},
   "outputs": [],
   "source": [
    "(x_train, y_train), (x_test, y_test) = mnist.load_data()\n",
    "\n",
    "x = np.concatenate((x_train, x_test))\n",
    "y = np.concatenate((y_train, y_test))\n",
    "x = x.reshape((x.shape[0], -1))\n",
    "x = np.divide(x, 255.)"
   ]
  },
  {
   "cell_type": "code",
   "execution_count": 5,
   "metadata": {},
   "outputs": [
    {
     "data": {
      "text/plain": [
       "(70000, 784)"
      ]
     },
     "execution_count": 5,
     "metadata": {},
     "output_type": "execute_result"
    }
   ],
   "source": [
    "n_clusters = len(np.unique(y))\n",
    "x.shape"
   ]
  },
  {
   "cell_type": "markdown",
   "metadata": {},
   "source": [
    "## Base line K-Means clustering accuracy"
   ]
  },
  {
   "cell_type": "code",
   "execution_count": 6,
   "metadata": {},
   "outputs": [],
   "source": [
    "kmeans = KMeans(n_clusters=n_clusters, n_init=20)#, n_jobs=4)\n",
    "y_pred_kmeans = kmeans.fit_predict(x)"
   ]
  },
  {
   "cell_type": "code",
   "execution_count": 7,
   "metadata": {},
   "outputs": [
    {
     "name": "stderr",
     "output_type": "stream",
     "text": [
      "/prj/nowage/.virtualenvs/AiNeis/lib/python3.8/site-packages/sklearn/utils/linear_assignment_.py:18: FutureWarning: The linear_assignment_ module is deprecated in 0.21 and will be removed from 0.23. Use scipy.optimize.linear_sum_assignment instead.\n",
      "  warnings.warn(\n",
      "/prj/nowage/.virtualenvs/AiNeis/lib/python3.8/site-packages/sklearn/utils/linear_assignment_.py:124: FutureWarning: The linear_assignment function is deprecated in 0.21 and will be removed from 0.23. Use scipy.optimize.linear_sum_assignment instead.\n",
      "  warnings.warn(\n"
     ]
    },
    {
     "data": {
      "text/plain": [
       "0.5322857142857143"
      ]
     },
     "execution_count": 7,
     "metadata": {},
     "output_type": "execute_result"
    }
   ],
   "source": [
    "metrics.acc(y, y_pred_kmeans)"
   ]
  },
  {
   "cell_type": "markdown",
   "metadata": {},
   "source": [
    "## Hyper-params"
   ]
  },
  {
   "cell_type": "code",
   "execution_count": 8,
   "metadata": {},
   "outputs": [
    {
     "name": "stderr",
     "output_type": "stream",
     "text": [
      "2022-12-09 17:57:35.214655: I tensorflow/core/platform/cpu_feature_guard.cc:193] This TensorFlow binary is optimized with oneAPI Deep Neural Network Library (oneDNN) to use the following CPU instructions in performance-critical operations:  AVX2 FMA\n",
      "To enable them in other operations, rebuild TensorFlow with the appropriate compiler flags.\n",
      "2022-12-09 17:57:36.011495: I tensorflow/core/common_runtime/gpu/gpu_device.cc:1613] Created device /job:localhost/replica:0/task:0/device:GPU:0 with 5292 MB memory:  -> device: 0, name: NVIDIA GeForce GTX 1060 6GB, pci bus id: 0000:01:00.0, compute capability: 6.1\n",
      "2022-12-09 17:57:36.011929: I tensorflow/core/common_runtime/gpu/gpu_device.cc:1613] Created device /job:localhost/replica:0/task:0/device:GPU:1 with 5372 MB memory:  -> device: 1, name: NVIDIA GeForce GTX 1060 6GB, pci bus id: 0000:02:00.0, compute capability: 6.1\n",
      "WARNING:absl:`lr` is deprecated, please use `learning_rate` instead, or use the legacy optimizer, e.g.,tf.keras.optimizers.legacy.SGD.\n"
     ]
    }
   ],
   "source": [
    "dims = [x.shape[-1], 500, 500, 2000, 10]\n",
    "init = VarianceScaling(scale=1. / 3., mode='fan_in',\n",
    "                           distribution='uniform')\n",
    "pretrain_optimizer = SGD(lr=1, momentum=0.9)\n",
    "pretrain_epochs = 300\n",
    "batch_size = 256\n",
    "save_dir = './results'"
   ]
  },
  {
   "cell_type": "code",
   "execution_count": 9,
   "metadata": {},
   "outputs": [
    {
     "name": "stderr",
     "output_type": "stream",
     "text": [
      "/prj/nowage/.virtualenvs/AiNeis/lib/python3.8/site-packages/keras/initializers/initializers_v2.py:120: UserWarning: The initializer VarianceScaling is unseeded and being called multiple times, which will return identical values  each time (even if the initializer is unseeded). Please update your code to provide a seed to the initializer, or avoid using the same initalizer instance more than once.\n",
      "  warnings.warn(\n"
     ]
    }
   ],
   "source": [
    "autoencoder, encoder = autoencoder(dims, init=init)"
   ]
  },
  {
   "cell_type": "code",
   "execution_count": 10,
   "metadata": {},
   "outputs": [
    {
     "data": {
      "image/png": "[encoded data removed]",
      "text/plain": [
       "<IPython.core.display.Image object>"
      ]
     },
     "execution_count": 10,
     "metadata": {},
     "output_type": "execute_result"
    }
   ],
   "source": [
    "from keras.utils import plot_model\n",
    "plot_model(autoencoder, to_file='autoencoder.png', show_shapes=True)\n",
    "from IPython.display import Image\n",
    "Image(filename='autoencoder.png') "
   ]
  },
  {
   "cell_type": "code",
   "execution_count": 11,
   "metadata": {},
   "outputs": [
    {
     "data": {
      "image/png": "[encoded data removed]",
      "text/plain": [
       "<IPython.core.display.Image object>"
      ]
     },
     "execution_count": 11,
     "metadata": {},
     "output_type": "execute_result"
    }
   ],
   "source": [
    "from keras.utils import plot_model\n",
    "plot_model(encoder, to_file='encoder.png', show_shapes=True)\n",
    "from IPython.display import Image\n",
    "Image(filename='encoder.png') "
   ]
  },
  {
   "cell_type": "markdown",
   "metadata": {},
   "source": [
    "## Pretrain auto-encoder"
   ]
  },
  {
   "cell_type": "code",
   "execution_count": 12,
   "metadata": {
    "scrolled": true
   },
   "outputs": [
    {
     "name": "stdout",
     "output_type": "stream",
     "text": [
      "Epoch 1/300\n"
     ]
    },
    {
     "name": "stderr",
     "output_type": "stream",
     "text": [
      "2022-12-09 17:57:37.759889: I tensorflow/compiler/xla/service/service.cc:173] XLA service 0x7efc6c017720 initialized for platform CUDA (this does not guarantee that XLA will be used). Devices:\n",
      "2022-12-09 17:57:37.759919: I tensorflow/compiler/xla/service/service.cc:181]   StreamExecutor device (0): NVIDIA GeForce GTX 1060 6GB, Compute Capability 6.1\n",
      "2022-12-09 17:57:37.759925: I tensorflow/compiler/xla/service/service.cc:181]   StreamExecutor device (1): NVIDIA GeForce GTX 1060 6GB, Compute Capability 6.1\n",
      "2022-12-09 17:57:37.771782: I tensorflow/tsl/platform/default/subprocess.cc:304] Start cannot spawn child process: No such file or directory\n",
      "2022-12-09 17:57:37.797411: I tensorflow/compiler/jit/xla_compilation_cache.cc:477] Compiled cluster using XLA!  This line is logged at most once for the lifetime of the process.\n"
     ]
    },
    {
     "name": "stdout",
     "output_type": "stream",
     "text": [
      "274/274 [==============================] - 2s 5ms/step - loss: 0.1091\n",
      "Epoch 2/300\n",
      "274/274 [==============================] - 1s 5ms/step - loss: 0.1024\n",
      "Epoch 3/300\n",
      "274/274 [==============================] - 1s 5ms/step - loss: 0.0951\n",
      "Epoch 4/300\n",
      "274/274 [==============================] - 1s 5ms/step - loss: 0.0779\n",
      "Epoch 5/300\n",
      "274/274 [==============================] - 1s 5ms/step - loss: 0.0653\n",
      "Epoch 6/300\n",
      "274/274 [==============================] - 1s 5ms/step - loss: 0.0642\n",
      "Epoch 7/300\n",
      "274/274 [==============================] - 1s 4ms/step - loss: 0.0639\n",
      "Epoch 8/300\n",
      "274/274 [==============================] - 1s 5ms/step - loss: 0.0638\n",
      "Epoch 9/300\n",
      "274/274 [==============================] - 1s 5ms/step - loss: 0.0637\n",
      "Epoch 10/300\n",
      "274/274 [==============================] - 1s 5ms/step - loss: 0.0636\n",
      "Epoch 11/300\n",
      "274/274 [==============================] - 1s 5ms/step - loss: 0.0635\n",
      "Epoch 12/300\n",
      "274/274 [==============================] - 1s 5ms/step - loss: 0.0635\n",
      "Epoch 13/300\n",
      "274/274 [==============================] - 1s 5ms/step - loss: 0.0634\n",
      "Epoch 14/300\n",
      "274/274 [==============================] - 1s 5ms/step - loss: 0.0634\n",
      "Epoch 15/300\n",
      "274/274 [==============================] - 1s 5ms/step - loss: 0.0633\n",
      "Epoch 16/300\n",
      "274/274 [==============================] - 1s 5ms/step - loss: 0.0633\n",
      "Epoch 17/300\n",
      "274/274 [==============================] - 1s 5ms/step - loss: 0.0632\n",
      "Epoch 18/300\n",
      "274/274 [==============================] - 1s 5ms/step - loss: 0.0632\n",
      "Epoch 19/300\n",
      "274/274 [==============================] - 1s 5ms/step - loss: 0.0631\n",
      "Epoch 20/300\n",
      "274/274 [==============================] - 1s 5ms/step - loss: 0.0631\n",
      "Epoch 21/300\n",
      "274/274 [==============================] - 1s 5ms/step - loss: 0.0631\n",
      "Epoch 22/300\n",
      "274/274 [==============================] - 1s 5ms/step - loss: 0.0630\n",
      "Epoch 23/300\n",
      "274/274 [==============================] - 1s 5ms/step - loss: 0.0630\n",
      "Epoch 24/300\n",
      "274/274 [==============================] - 1s 5ms/step - loss: 0.0630\n",
      "Epoch 25/300\n",
      "274/274 [==============================] - 1s 5ms/step - loss: 0.0629\n",
      "Epoch 26/300\n",
      "274/274 [==============================] - 1s 5ms/step - loss: 0.0629\n",
      "Epoch 27/300\n",
      "274/274 [==============================] - 1s 5ms/step - loss: 0.0629\n",
      "Epoch 28/300\n",
      "274/274 [==============================] - 1s 5ms/step - loss: 0.0628\n",
      "Epoch 29/300\n",
      "274/274 [==============================] - 1s 5ms/step - loss: 0.0628\n",
      "Epoch 30/300\n",
      "274/274 [==============================] - 1s 5ms/step - loss: 0.0628\n",
      "Epoch 31/300\n",
      "274/274 [==============================] - 1s 5ms/step - loss: 0.0627\n",
      "Epoch 32/300\n",
      "274/274 [==============================] - 1s 5ms/step - loss: 0.0627\n",
      "Epoch 33/300\n",
      "274/274 [==============================] - 1s 5ms/step - loss: 0.0626\n",
      "Epoch 34/300\n",
      "274/274 [==============================] - 1s 5ms/step - loss: 0.0626\n",
      "Epoch 35/300\n",
      "274/274 [==============================] - 1s 5ms/step - loss: 0.0626\n",
      "Epoch 36/300\n",
      "274/274 [==============================] - 1s 5ms/step - loss: 0.0625\n",
      "Epoch 37/300\n",
      "274/274 [==============================] - 1s 5ms/step - loss: 0.0625\n",
      "Epoch 38/300\n",
      "274/274 [==============================] - 1s 5ms/step - loss: 0.0624\n",
      "Epoch 39/300\n",
      "274/274 [==============================] - 1s 5ms/step - loss: 0.0623\n",
      "Epoch 40/300\n",
      "274/274 [==============================] - 1s 5ms/step - loss: 0.0622\n",
      "Epoch 41/300\n",
      "274/274 [==============================] - 1s 5ms/step - loss: 0.0621\n",
      "Epoch 42/300\n",
      "274/274 [==============================] - 1s 5ms/step - loss: 0.0619\n",
      "Epoch 43/300\n",
      "274/274 [==============================] - 1s 5ms/step - loss: 0.0617\n",
      "Epoch 44/300\n",
      "274/274 [==============================] - 1s 5ms/step - loss: 0.0613\n",
      "Epoch 45/300\n",
      "274/274 [==============================] - 1s 5ms/step - loss: 0.0607\n",
      "Epoch 46/300\n",
      "274/274 [==============================] - 1s 5ms/step - loss: 0.0601\n",
      "Epoch 47/300\n",
      "274/274 [==============================] - 1s 5ms/step - loss: 0.0594\n",
      "Epoch 48/300\n",
      "274/274 [==============================] - 1s 5ms/step - loss: 0.0589\n",
      "Epoch 49/300\n",
      "274/274 [==============================] - 1s 5ms/step - loss: 0.0586\n",
      "Epoch 50/300\n",
      "274/274 [==============================] - 1s 5ms/step - loss: 0.0582\n",
      "Epoch 51/300\n",
      "274/274 [==============================] - 1s 5ms/step - loss: 0.0580\n",
      "Epoch 52/300\n",
      "274/274 [==============================] - 1s 5ms/step - loss: 0.0577\n",
      "Epoch 53/300\n",
      "274/274 [==============================] - 1s 5ms/step - loss: 0.0575\n",
      "Epoch 54/300\n",
      "274/274 [==============================] - 1s 5ms/step - loss: 0.0572\n",
      "Epoch 55/300\n",
      "274/274 [==============================] - 1s 5ms/step - loss: 0.0569\n",
      "Epoch 56/300\n",
      "274/274 [==============================] - 1s 5ms/step - loss: 0.0565\n",
      "Epoch 57/300\n",
      "274/274 [==============================] - 1s 5ms/step - loss: 0.0558\n",
      "Epoch 58/300\n",
      "274/274 [==============================] - 1s 5ms/step - loss: 0.0551\n",
      "Epoch 59/300\n",
      "274/274 [==============================] - 1s 5ms/step - loss: 0.0544\n",
      "Epoch 60/300\n",
      "274/274 [==============================] - 1s 5ms/step - loss: 0.0539\n",
      "Epoch 61/300\n",
      "274/274 [==============================] - 1s 5ms/step - loss: 0.0534\n",
      "Epoch 62/300\n",
      "274/274 [==============================] - 1s 5ms/step - loss: 0.0531\n",
      "Epoch 63/300\n",
      "274/274 [==============================] - 1s 5ms/step - loss: 0.0528\n",
      "Epoch 64/300\n",
      "274/274 [==============================] - 1s 5ms/step - loss: 0.0526\n",
      "Epoch 65/300\n",
      "274/274 [==============================] - 1s 5ms/step - loss: 0.0524\n",
      "Epoch 66/300\n",
      "274/274 [==============================] - 1s 5ms/step - loss: 0.0522\n",
      "Epoch 67/300\n",
      "274/274 [==============================] - 1s 5ms/step - loss: 0.0520\n",
      "Epoch 68/300\n",
      "274/274 [==============================] - 1s 5ms/step - loss: 0.0518\n",
      "Epoch 69/300\n",
      "274/274 [==============================] - 1s 5ms/step - loss: 0.0516\n",
      "Epoch 70/300\n",
      "274/274 [==============================] - 1s 5ms/step - loss: 0.0512\n",
      "Epoch 71/300\n",
      "274/274 [==============================] - 1s 5ms/step - loss: 0.0509\n",
      "Epoch 72/300\n",
      "274/274 [==============================] - 1s 5ms/step - loss: 0.0504\n",
      "Epoch 73/300\n",
      "274/274 [==============================] - 1s 5ms/step - loss: 0.0499\n",
      "Epoch 74/300\n",
      "274/274 [==============================] - 1s 5ms/step - loss: 0.0495\n",
      "Epoch 75/300\n",
      "274/274 [==============================] - 1s 5ms/step - loss: 0.0491\n",
      "Epoch 76/300\n",
      "274/274 [==============================] - 1s 5ms/step - loss: 0.0487\n",
      "Epoch 77/300\n",
      "274/274 [==============================] - 1s 5ms/step - loss: 0.0484\n",
      "Epoch 78/300\n",
      "274/274 [==============================] - 1s 5ms/step - loss: 0.0481\n",
      "Epoch 79/300\n",
      "274/274 [==============================] - 1s 5ms/step - loss: 0.0478\n",
      "Epoch 80/300\n",
      "274/274 [==============================] - 1s 5ms/step - loss: 0.0474\n",
      "Epoch 81/300\n",
      "274/274 [==============================] - 1s 5ms/step - loss: 0.0471\n",
      "Epoch 82/300\n",
      "274/274 [==============================] - 1s 5ms/step - loss: 0.0466\n",
      "Epoch 83/300\n",
      "274/274 [==============================] - 1s 5ms/step - loss: 0.0461\n",
      "Epoch 84/300\n",
      "274/274 [==============================] - 1s 5ms/step - loss: 0.0456\n",
      "Epoch 85/300\n",
      "274/274 [==============================] - 1s 5ms/step - loss: 0.0451\n",
      "Epoch 86/300\n",
      "274/274 [==============================] - 1s 5ms/step - loss: 0.0447\n",
      "Epoch 87/300\n",
      "274/274 [==============================] - 1s 5ms/step - loss: 0.0443\n",
      "Epoch 88/300\n",
      "274/274 [==============================] - 1s 5ms/step - loss: 0.0440\n",
      "Epoch 89/300\n",
      "274/274 [==============================] - 1s 5ms/step - loss: 0.0437\n",
      "Epoch 90/300\n",
      "274/274 [==============================] - 1s 5ms/step - loss: 0.0435\n",
      "Epoch 91/300\n",
      "274/274 [==============================] - 1s 5ms/step - loss: 0.0432\n",
      "Epoch 92/300\n",
      "274/274 [==============================] - 1s 5ms/step - loss: 0.0430\n",
      "Epoch 93/300\n",
      "274/274 [==============================] - 1s 5ms/step - loss: 0.0427\n",
      "Epoch 94/300\n",
      "274/274 [==============================] - 1s 5ms/step - loss: 0.0425\n",
      "Epoch 95/300\n",
      "274/274 [==============================] - 1s 5ms/step - loss: 0.0421\n",
      "Epoch 96/300\n",
      "274/274 [==============================] - 1s 5ms/step - loss: 0.0418\n",
      "Epoch 97/300\n",
      "274/274 [==============================] - 1s 5ms/step - loss: 0.0414\n",
      "Epoch 98/300\n",
      "274/274 [==============================] - 1s 5ms/step - loss: 0.0411\n",
      "Epoch 99/300\n",
      "274/274 [==============================] - 1s 5ms/step - loss: 0.0407\n",
      "Epoch 100/300\n",
      "274/274 [==============================] - 1s 5ms/step - loss: 0.0405\n",
      "Epoch 101/300\n",
      "274/274 [==============================] - 1s 5ms/step - loss: 0.0402\n",
      "Epoch 102/300\n",
      "274/274 [==============================] - 1s 5ms/step - loss: 0.0399\n",
      "Epoch 103/300\n",
      "274/274 [==============================] - 1s 5ms/step - loss: 0.0397\n",
      "Epoch 104/300\n",
      "274/274 [==============================] - 1s 5ms/step - loss: 0.0395\n",
      "Epoch 105/300\n",
      "274/274 [==============================] - 1s 5ms/step - loss: 0.0393\n",
      "Epoch 106/300\n",
      "274/274 [==============================] - 1s 5ms/step - loss: 0.0391\n",
      "Epoch 107/300\n",
      "274/274 [==============================] - 1s 5ms/step - loss: 0.0389\n",
      "Epoch 108/300\n",
      "274/274 [==============================] - 1s 5ms/step - loss: 0.0387\n",
      "Epoch 109/300\n",
      "274/274 [==============================] - 1s 5ms/step - loss: 0.0385\n",
      "Epoch 110/300\n",
      "274/274 [==============================] - 1s 5ms/step - loss: 0.0383\n",
      "Epoch 111/300\n",
      "274/274 [==============================] - 1s 5ms/step - loss: 0.0381\n",
      "Epoch 112/300\n",
      "274/274 [==============================] - 1s 5ms/step - loss: 0.0379\n",
      "Epoch 113/300\n",
      "274/274 [==============================] - 1s 5ms/step - loss: 0.0377\n",
      "Epoch 114/300\n",
      "274/274 [==============================] - 1s 5ms/step - loss: 0.0375\n",
      "Epoch 115/300\n",
      "274/274 [==============================] - 1s 5ms/step - loss: 0.0374\n",
      "Epoch 116/300\n",
      "274/274 [==============================] - 1s 5ms/step - loss: 0.0372\n",
      "Epoch 117/300\n",
      "274/274 [==============================] - 1s 5ms/step - loss: 0.0371\n",
      "Epoch 118/300\n",
      "274/274 [==============================] - 1s 5ms/step - loss: 0.0369\n",
      "Epoch 119/300\n",
      "274/274 [==============================] - 1s 4ms/step - loss: 0.0368\n",
      "Epoch 120/300\n",
      "274/274 [==============================] - 1s 5ms/step - loss: 0.0367\n",
      "Epoch 121/300\n",
      "274/274 [==============================] - 1s 5ms/step - loss: 0.0366\n",
      "Epoch 122/300\n",
      "274/274 [==============================] - 1s 5ms/step - loss: 0.0364\n",
      "Epoch 123/300\n",
      "274/274 [==============================] - 1s 5ms/step - loss: 0.0363\n",
      "Epoch 124/300\n",
      "274/274 [==============================] - 1s 5ms/step - loss: 0.0362\n",
      "Epoch 125/300\n",
      "274/274 [==============================] - 1s 5ms/step - loss: 0.0361\n",
      "Epoch 126/300\n",
      "274/274 [==============================] - 1s 5ms/step - loss: 0.0360\n",
      "Epoch 127/300\n",
      "274/274 [==============================] - 1s 5ms/step - loss: 0.0359\n",
      "Epoch 128/300\n",
      "274/274 [==============================] - 1s 5ms/step - loss: 0.0358\n",
      "Epoch 129/300\n",
      "274/274 [==============================] - 1s 5ms/step - loss: 0.0357\n",
      "Epoch 130/300\n",
      "274/274 [==============================] - 1s 5ms/step - loss: 0.0356\n",
      "Epoch 131/300\n",
      "274/274 [==============================] - 1s 5ms/step - loss: 0.0354\n",
      "Epoch 132/300\n",
      "274/274 [==============================] - 1s 5ms/step - loss: 0.0353\n",
      "Epoch 133/300\n",
      "274/274 [==============================] - 1s 5ms/step - loss: 0.0352\n",
      "Epoch 134/300\n",
      "274/274 [==============================] - 1s 5ms/step - loss: 0.0351\n",
      "Epoch 135/300\n",
      "274/274 [==============================] - 1s 5ms/step - loss: 0.0350\n",
      "Epoch 136/300\n",
      "274/274 [==============================] - 1s 5ms/step - loss: 0.0349\n",
      "Epoch 137/300\n",
      "274/274 [==============================] - 1s 5ms/step - loss: 0.0348\n",
      "Epoch 138/300\n",
      "274/274 [==============================] - 1s 5ms/step - loss: 0.0347\n",
      "Epoch 139/300\n",
      "274/274 [==============================] - 1s 5ms/step - loss: 0.0346\n",
      "Epoch 140/300\n",
      "274/274 [==============================] - 1s 5ms/step - loss: 0.0344\n",
      "Epoch 141/300\n",
      "274/274 [==============================] - 1s 5ms/step - loss: 0.0343\n",
      "Epoch 142/300\n",
      "274/274 [==============================] - 1s 5ms/step - loss: 0.0342\n",
      "Epoch 143/300\n",
      "274/274 [==============================] - 1s 5ms/step - loss: 0.0341\n",
      "Epoch 144/300\n",
      "274/274 [==============================] - 1s 5ms/step - loss: 0.0340\n",
      "Epoch 145/300\n",
      "274/274 [==============================] - 1s 5ms/step - loss: 0.0339\n",
      "Epoch 146/300\n",
      "274/274 [==============================] - 1s 5ms/step - loss: 0.0338\n",
      "Epoch 147/300\n",
      "274/274 [==============================] - 1s 5ms/step - loss: 0.0337\n",
      "Epoch 148/300\n",
      "274/274 [==============================] - 1s 5ms/step - loss: 0.0336\n",
      "Epoch 149/300\n",
      "274/274 [==============================] - 1s 5ms/step - loss: 0.0335\n",
      "Epoch 150/300\n",
      "274/274 [==============================] - 1s 5ms/step - loss: 0.0334\n",
      "Epoch 151/300\n",
      "274/274 [==============================] - 1s 5ms/step - loss: 0.0333\n",
      "Epoch 152/300\n",
      "274/274 [==============================] - 1s 5ms/step - loss: 0.0332\n",
      "Epoch 153/300\n",
      "274/274 [==============================] - 1s 5ms/step - loss: 0.0332\n",
      "Epoch 154/300\n",
      "274/274 [==============================] - 1s 5ms/step - loss: 0.0331\n",
      "Epoch 155/300\n",
      "274/274 [==============================] - 1s 5ms/step - loss: 0.0330\n",
      "Epoch 156/300\n",
      "274/274 [==============================] - 1s 5ms/step - loss: 0.0329\n",
      "Epoch 157/300\n",
      "274/274 [==============================] - 1s 5ms/step - loss: 0.0328\n",
      "Epoch 158/300\n",
      "274/274 [==============================] - 1s 5ms/step - loss: 0.0327\n",
      "Epoch 159/300\n",
      "274/274 [==============================] - 1s 5ms/step - loss: 0.0326\n",
      "Epoch 160/300\n",
      "274/274 [==============================] - 1s 5ms/step - loss: 0.0326\n",
      "Epoch 161/300\n",
      "274/274 [==============================] - 1s 5ms/step - loss: 0.0325\n",
      "Epoch 162/300\n",
      "274/274 [==============================] - 1s 5ms/step - loss: 0.0324\n",
      "Epoch 163/300\n",
      "274/274 [==============================] - 1s 5ms/step - loss: 0.0323\n",
      "Epoch 164/300\n",
      "274/274 [==============================] - 1s 5ms/step - loss: 0.0322\n",
      "Epoch 165/300\n",
      "274/274 [==============================] - 1s 5ms/step - loss: 0.0322\n",
      "Epoch 166/300\n",
      "274/274 [==============================] - 1s 5ms/step - loss: 0.0321\n",
      "Epoch 167/300\n",
      "274/274 [==============================] - 1s 5ms/step - loss: 0.0320\n",
      "Epoch 168/300\n",
      "274/274 [==============================] - 1s 5ms/step - loss: 0.0319\n",
      "Epoch 169/300\n",
      "274/274 [==============================] - 1s 5ms/step - loss: 0.0318\n",
      "Epoch 170/300\n",
      "274/274 [==============================] - 1s 5ms/step - loss: 0.0317\n",
      "Epoch 171/300\n",
      "274/274 [==============================] - 1s 5ms/step - loss: 0.0316\n",
      "Epoch 172/300\n",
      "274/274 [==============================] - 1s 5ms/step - loss: 0.0315\n",
      "Epoch 173/300\n",
      "274/274 [==============================] - 1s 5ms/step - loss: 0.0314\n",
      "Epoch 174/300\n",
      "274/274 [==============================] - 1s 5ms/step - loss: 0.0313\n",
      "Epoch 175/300\n",
      "274/274 [==============================] - 1s 5ms/step - loss: 0.0312\n",
      "Epoch 176/300\n",
      "274/274 [==============================] - 1s 5ms/step - loss: 0.0311\n",
      "Epoch 177/300\n",
      "274/274 [==============================] - 1s 5ms/step - loss: 0.0310\n",
      "Epoch 178/300\n",
      "274/274 [==============================] - 1s 5ms/step - loss: 0.0309\n",
      "Epoch 179/300\n",
      "274/274 [==============================] - 1s 5ms/step - loss: 0.0308\n",
      "Epoch 180/300\n",
      "274/274 [==============================] - 1s 5ms/step - loss: 0.0307\n",
      "Epoch 181/300\n",
      "274/274 [==============================] - 1s 5ms/step - loss: 0.0306\n",
      "Epoch 182/300\n",
      "274/274 [==============================] - 1s 5ms/step - loss: 0.0305\n",
      "Epoch 183/300\n",
      "274/274 [==============================] - 1s 5ms/step - loss: 0.0304\n",
      "Epoch 184/300\n",
      "274/274 [==============================] - 1s 5ms/step - loss: 0.0304\n",
      "Epoch 185/300\n",
      "274/274 [==============================] - 1s 5ms/step - loss: 0.0303\n",
      "Epoch 186/300\n",
      "274/274 [==============================] - 1s 5ms/step - loss: 0.0302\n",
      "Epoch 187/300\n",
      "274/274 [==============================] - 1s 5ms/step - loss: 0.0301\n",
      "Epoch 188/300\n",
      "274/274 [==============================] - 1s 5ms/step - loss: 0.0301\n",
      "Epoch 189/300\n",
      "274/274 [==============================] - 1s 5ms/step - loss: 0.0300\n",
      "Epoch 190/300\n",
      "274/274 [==============================] - 1s 5ms/step - loss: 0.0299\n",
      "Epoch 191/300\n",
      "274/274 [==============================] - 1s 5ms/step - loss: 0.0299\n",
      "Epoch 192/300\n",
      "274/274 [==============================] - 1s 5ms/step - loss: 0.0298\n",
      "Epoch 193/300\n",
      "274/274 [==============================] - 1s 5ms/step - loss: 0.0298\n",
      "Epoch 194/300\n",
      "274/274 [==============================] - 1s 5ms/step - loss: 0.0297\n",
      "Epoch 195/300\n",
      "274/274 [==============================] - 1s 5ms/step - loss: 0.0297\n",
      "Epoch 196/300\n",
      "274/274 [==============================] - 1s 5ms/step - loss: 0.0296\n",
      "Epoch 197/300\n",
      "274/274 [==============================] - 1s 5ms/step - loss: 0.0295\n",
      "Epoch 198/300\n",
      "274/274 [==============================] - 1s 5ms/step - loss: 0.0295\n",
      "Epoch 199/300\n",
      "274/274 [==============================] - 1s 5ms/step - loss: 0.0294\n",
      "Epoch 200/300\n",
      "274/274 [==============================] - 1s 5ms/step - loss: 0.0294\n",
      "Epoch 201/300\n",
      "274/274 [==============================] - 1s 5ms/step - loss: 0.0293\n",
      "Epoch 202/300\n",
      "274/274 [==============================] - 1s 5ms/step - loss: 0.0293\n",
      "Epoch 203/300\n",
      "274/274 [==============================] - 1s 5ms/step - loss: 0.0292\n",
      "Epoch 204/300\n",
      "274/274 [==============================] - 1s 5ms/step - loss: 0.0292\n",
      "Epoch 205/300\n",
      "274/274 [==============================] - 1s 5ms/step - loss: 0.0291\n",
      "Epoch 206/300\n",
      "274/274 [==============================] - 1s 5ms/step - loss: 0.0291\n",
      "Epoch 207/300\n",
      "274/274 [==============================] - 1s 5ms/step - loss: 0.0290\n",
      "Epoch 208/300\n",
      "274/274 [==============================] - 1s 5ms/step - loss: 0.0290\n",
      "Epoch 209/300\n",
      "274/274 [==============================] - 1s 5ms/step - loss: 0.0289\n",
      "Epoch 210/300\n",
      "274/274 [==============================] - 1s 5ms/step - loss: 0.0289\n",
      "Epoch 211/300\n",
      "274/274 [==============================] - 1s 5ms/step - loss: 0.0288\n",
      "Epoch 212/300\n",
      "274/274 [==============================] - 1s 5ms/step - loss: 0.0288\n",
      "Epoch 213/300\n",
      "274/274 [==============================] - 1s 5ms/step - loss: 0.0287\n",
      "Epoch 214/300\n",
      "274/274 [==============================] - 1s 5ms/step - loss: 0.0287\n",
      "Epoch 215/300\n",
      "274/274 [==============================] - 1s 5ms/step - loss: 0.0287\n",
      "Epoch 216/300\n",
      "274/274 [==============================] - 1s 5ms/step - loss: 0.0286\n",
      "Epoch 217/300\n",
      "274/274 [==============================] - 1s 5ms/step - loss: 0.0286\n",
      "Epoch 218/300\n",
      "274/274 [==============================] - 1s 5ms/step - loss: 0.0285\n",
      "Epoch 219/300\n",
      "274/274 [==============================] - 1s 5ms/step - loss: 0.0285\n",
      "Epoch 220/300\n",
      "274/274 [==============================] - 1s 5ms/step - loss: 0.0284\n",
      "Epoch 221/300\n",
      "274/274 [==============================] - 1s 5ms/step - loss: 0.0284\n",
      "Epoch 222/300\n",
      "274/274 [==============================] - 1s 5ms/step - loss: 0.0283\n",
      "Epoch 223/300\n",
      "274/274 [==============================] - 1s 5ms/step - loss: 0.0283\n",
      "Epoch 224/300\n",
      "274/274 [==============================] - 1s 5ms/step - loss: 0.0282\n",
      "Epoch 225/300\n",
      "274/274 [==============================] - 1s 5ms/step - loss: 0.0282\n",
      "Epoch 226/300\n",
      "274/274 [==============================] - 1s 5ms/step - loss: 0.0282\n",
      "Epoch 227/300\n",
      "274/274 [==============================] - 1s 5ms/step - loss: 0.0281\n",
      "Epoch 228/300\n",
      "274/274 [==============================] - 1s 5ms/step - loss: 0.0281\n",
      "Epoch 229/300\n",
      "274/274 [==============================] - 1s 5ms/step - loss: 0.0280\n",
      "Epoch 230/300\n",
      "274/274 [==============================] - 1s 5ms/step - loss: 0.0280\n",
      "Epoch 231/300\n",
      "274/274 [==============================] - 1s 5ms/step - loss: 0.0279\n",
      "Epoch 232/300\n",
      "274/274 [==============================] - 1s 5ms/step - loss: 0.0279\n",
      "Epoch 233/300\n",
      "274/274 [==============================] - 1s 5ms/step - loss: 0.0278\n",
      "Epoch 234/300\n",
      "274/274 [==============================] - 1s 5ms/step - loss: 0.0278\n",
      "Epoch 235/300\n",
      "274/274 [==============================] - 1s 5ms/step - loss: 0.0277\n",
      "Epoch 236/300\n",
      "274/274 [==============================] - 1s 5ms/step - loss: 0.0277\n",
      "Epoch 237/300\n",
      "274/274 [==============================] - 1s 5ms/step - loss: 0.0276\n",
      "Epoch 238/300\n",
      "274/274 [==============================] - 1s 5ms/step - loss: 0.0276\n",
      "Epoch 239/300\n",
      "274/274 [==============================] - 1s 5ms/step - loss: 0.0275\n",
      "Epoch 240/300\n",
      "274/274 [==============================] - 1s 5ms/step - loss: 0.0275\n",
      "Epoch 241/300\n",
      "274/274 [==============================] - 1s 5ms/step - loss: 0.0274\n",
      "Epoch 242/300\n",
      "274/274 [==============================] - 1s 5ms/step - loss: 0.0274\n",
      "Epoch 243/300\n",
      "274/274 [==============================] - 1s 5ms/step - loss: 0.0273\n",
      "Epoch 244/300\n",
      "274/274 [==============================] - 1s 5ms/step - loss: 0.0273\n",
      "Epoch 245/300\n",
      "274/274 [==============================] - 1s 5ms/step - loss: 0.0272\n",
      "Epoch 246/300\n",
      "274/274 [==============================] - 1s 5ms/step - loss: 0.0272\n",
      "Epoch 247/300\n",
      "274/274 [==============================] - 1s 5ms/step - loss: 0.0271\n",
      "Epoch 248/300\n",
      "274/274 [==============================] - 1s 5ms/step - loss: 0.0271\n",
      "Epoch 249/300\n",
      "274/274 [==============================] - 1s 5ms/step - loss: 0.0270\n",
      "Epoch 250/300\n",
      "274/274 [==============================] - 1s 5ms/step - loss: 0.0270\n",
      "Epoch 251/300\n",
      "274/274 [==============================] - 1s 5ms/step - loss: 0.0269\n",
      "Epoch 252/300\n",
      "274/274 [==============================] - 1s 5ms/step - loss: 0.0269\n",
      "Epoch 253/300\n",
      "274/274 [==============================] - 1s 5ms/step - loss: 0.0269\n",
      "Epoch 254/300\n",
      "274/274 [==============================] - 1s 5ms/step - loss: 0.0268\n",
      "Epoch 255/300\n",
      "274/274 [==============================] - 1s 5ms/step - loss: 0.0268\n",
      "Epoch 256/300\n",
      "274/274 [==============================] - 1s 5ms/step - loss: 0.0267\n",
      "Epoch 257/300\n",
      "274/274 [==============================] - 1s 5ms/step - loss: 0.0267\n",
      "Epoch 258/300\n",
      "274/274 [==============================] - 1s 5ms/step - loss: 0.0266\n",
      "Epoch 259/300\n",
      "274/274 [==============================] - 1s 5ms/step - loss: 0.0266\n",
      "Epoch 260/300\n",
      "274/274 [==============================] - 1s 5ms/step - loss: 0.0266\n",
      "Epoch 261/300\n",
      "274/274 [==============================] - 1s 5ms/step - loss: 0.0265\n",
      "Epoch 262/300\n",
      "274/274 [==============================] - 1s 5ms/step - loss: 0.0265\n",
      "Epoch 263/300\n",
      "274/274 [==============================] - 1s 5ms/step - loss: 0.0265\n",
      "Epoch 264/300\n",
      "274/274 [==============================] - 1s 5ms/step - loss: 0.0264\n",
      "Epoch 265/300\n",
      "274/274 [==============================] - 1s 5ms/step - loss: 0.0264\n",
      "Epoch 266/300\n",
      "274/274 [==============================] - 1s 5ms/step - loss: 0.0263\n",
      "Epoch 267/300\n",
      "274/274 [==============================] - 1s 5ms/step - loss: 0.0263\n",
      "Epoch 268/300\n",
      "274/274 [==============================] - 1s 5ms/step - loss: 0.0263\n",
      "Epoch 269/300\n",
      "274/274 [==============================] - 1s 5ms/step - loss: 0.0262\n",
      "Epoch 270/300\n",
      "274/274 [==============================] - 1s 5ms/step - loss: 0.0262\n",
      "Epoch 271/300\n",
      "274/274 [==============================] - 1s 5ms/step - loss: 0.0262\n",
      "Epoch 272/300\n",
      "274/274 [==============================] - 1s 5ms/step - loss: 0.0261\n",
      "Epoch 273/300\n",
      "274/274 [==============================] - 1s 5ms/step - loss: 0.0261\n",
      "Epoch 274/300\n",
      "274/274 [==============================] - 1s 5ms/step - loss: 0.0261\n",
      "Epoch 275/300\n",
      "274/274 [==============================] - 1s 5ms/step - loss: 0.0260\n",
      "Epoch 276/300\n",
      "274/274 [==============================] - 1s 5ms/step - loss: 0.0260\n",
      "Epoch 277/300\n",
      "274/274 [==============================] - 1s 5ms/step - loss: 0.0260\n",
      "Epoch 278/300\n",
      "274/274 [==============================] - 1s 5ms/step - loss: 0.0259\n",
      "Epoch 279/300\n",
      "274/274 [==============================] - 1s 5ms/step - loss: 0.0259\n",
      "Epoch 280/300\n",
      "274/274 [==============================] - 1s 5ms/step - loss: 0.0259\n",
      "Epoch 281/300\n",
      "274/274 [==============================] - 1s 5ms/step - loss: 0.0259\n",
      "Epoch 282/300\n",
      "274/274 [==============================] - 1s 5ms/step - loss: 0.0258\n",
      "Epoch 283/300\n",
      "274/274 [==============================] - 1s 5ms/step - loss: 0.0258\n",
      "Epoch 284/300\n",
      "274/274 [==============================] - 1s 5ms/step - loss: 0.0258\n",
      "Epoch 285/300\n",
      "274/274 [==============================] - 1s 5ms/step - loss: 0.0257\n",
      "Epoch 286/300\n",
      "274/274 [==============================] - 1s 5ms/step - loss: 0.0257\n",
      "Epoch 287/300\n",
      "274/274 [==============================] - 1s 5ms/step - loss: 0.0257\n",
      "Epoch 288/300\n",
      "274/274 [==============================] - 1s 5ms/step - loss: 0.0256\n",
      "Epoch 289/300\n",
      "274/274 [==============================] - 1s 5ms/step - loss: 0.0256\n",
      "Epoch 290/300\n",
      "274/274 [==============================] - 1s 5ms/step - loss: 0.0256\n",
      "Epoch 291/300\n",
      "274/274 [==============================] - 1s 5ms/step - loss: 0.0256\n",
      "Epoch 292/300\n",
      "274/274 [==============================] - 1s 5ms/step - loss: 0.0255\n",
      "Epoch 293/300\n",
      "274/274 [==============================] - 1s 5ms/step - loss: 0.0255\n",
      "Epoch 294/300\n",
      "274/274 [==============================] - 1s 5ms/step - loss: 0.0255\n",
      "Epoch 295/300\n",
      "274/274 [==============================] - 1s 5ms/step - loss: 0.0254\n",
      "Epoch 296/300\n",
      "274/274 [==============================] - 1s 5ms/step - loss: 0.0254\n",
      "Epoch 297/300\n",
      "274/274 [==============================] - 1s 5ms/step - loss: 0.0254\n",
      "Epoch 298/300\n",
      "274/274 [==============================] - 1s 5ms/step - loss: 0.0254\n",
      "Epoch 299/300\n",
      "274/274 [==============================] - 1s 5ms/step - loss: 0.0253\n",
      "Epoch 300/300\n",
      "274/274 [==============================] - 1s 5ms/step - loss: 0.0253\n"
     ]
    },
    {
     "ename": "FileNotFoundError",
     "evalue": "[Errno 2] Unable to create file (unable to open file: name = './results/ae_weights.h5', errno = 2, error message = 'No such file or directory', flags = 13, o_flags = 242)",
     "output_type": "error",
     "traceback": [
      "\u001b[0;31m---------------------------------------------------------------------------\u001b[0m",
      "\u001b[0;31mFileNotFoundError\u001b[0m                         Traceback (most recent call last)",
      "Cell \u001b[0;32mIn[12], line 3\u001b[0m\n\u001b[1;32m      1\u001b[0m autoencoder\u001b[38;5;241m.\u001b[39mcompile(optimizer\u001b[38;5;241m=\u001b[39mpretrain_optimizer, loss\u001b[38;5;241m=\u001b[39m\u001b[38;5;124m'\u001b[39m\u001b[38;5;124mmse\u001b[39m\u001b[38;5;124m'\u001b[39m)\n\u001b[1;32m      2\u001b[0m autoencoder\u001b[38;5;241m.\u001b[39mfit(x, x, batch_size\u001b[38;5;241m=\u001b[39mbatch_size, epochs\u001b[38;5;241m=\u001b[39mpretrain_epochs) \u001b[38;5;66;03m#, callbacks=cb)\u001b[39;00m\n\u001b[0;32m----> 3\u001b[0m \u001b[43mautoencoder\u001b[49m\u001b[38;5;241;43m.\u001b[39;49m\u001b[43msave_weights\u001b[49m\u001b[43m(\u001b[49m\u001b[43msave_dir\u001b[49m\u001b[43m \u001b[49m\u001b[38;5;241;43m+\u001b[39;49m\u001b[43m \u001b[49m\u001b[38;5;124;43m'\u001b[39;49m\u001b[38;5;124;43m/ae_weights.h5\u001b[39;49m\u001b[38;5;124;43m'\u001b[39;49m\u001b[43m)\u001b[49m\n",
      "File \u001b[0;32m~/.virtualenvs/AiNeis/lib/python3.8/site-packages/keras/utils/traceback_utils.py:70\u001b[0m, in \u001b[0;36mfilter_traceback.<locals>.error_handler\u001b[0;34m(*args, **kwargs)\u001b[0m\n\u001b[1;32m     67\u001b[0m     filtered_tb \u001b[38;5;241m=\u001b[39m _process_traceback_frames(e\u001b[38;5;241m.\u001b[39m__traceback__)\n\u001b[1;32m     68\u001b[0m     \u001b[38;5;66;03m# To get the full stack trace, call:\u001b[39;00m\n\u001b[1;32m     69\u001b[0m     \u001b[38;5;66;03m# `tf.debugging.disable_traceback_filtering()`\u001b[39;00m\n\u001b[0;32m---> 70\u001b[0m     \u001b[38;5;28;01mraise\u001b[39;00m e\u001b[38;5;241m.\u001b[39mwith_traceback(filtered_tb) \u001b[38;5;28;01mfrom\u001b[39;00m \u001b[38;5;28mNone\u001b[39m\n\u001b[1;32m     71\u001b[0m \u001b[38;5;28;01mfinally\u001b[39;00m:\n\u001b[1;32m     72\u001b[0m     \u001b[38;5;28;01mdel\u001b[39;00m filtered_tb\n",
      "File \u001b[0;32m~/.virtualenvs/AiNeis/lib/python3.8/site-packages/h5py/_hl/files.py:533\u001b[0m, in \u001b[0;36mFile.__init__\u001b[0;34m(self, name, mode, driver, libver, userblock_size, swmr, rdcc_nslots, rdcc_nbytes, rdcc_w0, track_order, fs_strategy, fs_persist, fs_threshold, fs_page_size, page_buf_size, min_meta_keep, min_raw_keep, locking, alignment_threshold, alignment_interval, **kwds)\u001b[0m\n\u001b[1;32m    525\u001b[0m     fapl \u001b[38;5;241m=\u001b[39m make_fapl(driver, libver, rdcc_nslots, rdcc_nbytes, rdcc_w0,\n\u001b[1;32m    526\u001b[0m                      locking, page_buf_size, min_meta_keep, min_raw_keep,\n\u001b[1;32m    527\u001b[0m                      alignment_threshold\u001b[38;5;241m=\u001b[39malignment_threshold,\n\u001b[1;32m    528\u001b[0m                      alignment_interval\u001b[38;5;241m=\u001b[39malignment_interval,\n\u001b[1;32m    529\u001b[0m                      \u001b[38;5;241m*\u001b[39m\u001b[38;5;241m*\u001b[39mkwds)\n\u001b[1;32m    530\u001b[0m     fcpl \u001b[38;5;241m=\u001b[39m make_fcpl(track_order\u001b[38;5;241m=\u001b[39mtrack_order, fs_strategy\u001b[38;5;241m=\u001b[39mfs_strategy,\n\u001b[1;32m    531\u001b[0m                      fs_persist\u001b[38;5;241m=\u001b[39mfs_persist, fs_threshold\u001b[38;5;241m=\u001b[39mfs_threshold,\n\u001b[1;32m    532\u001b[0m                      fs_page_size\u001b[38;5;241m=\u001b[39mfs_page_size)\n\u001b[0;32m--> 533\u001b[0m     fid \u001b[38;5;241m=\u001b[39m make_fid(name, mode, userblock_size, fapl, fcpl, swmr\u001b[38;5;241m=\u001b[39mswmr)\n\u001b[1;32m    535\u001b[0m \u001b[38;5;28;01mif\u001b[39;00m \u001b[38;5;28misinstance\u001b[39m(libver, \u001b[38;5;28mtuple\u001b[39m):\n\u001b[1;32m    536\u001b[0m     \u001b[38;5;28mself\u001b[39m\u001b[38;5;241m.\u001b[39m_libver \u001b[38;5;241m=\u001b[39m libver\n",
      "File \u001b[0;32m~/.virtualenvs/AiNeis/lib/python3.8/site-packages/h5py/_hl/files.py:232\u001b[0m, in \u001b[0;36mmake_fid\u001b[0;34m(name, mode, userblock_size, fapl, fcpl, swmr)\u001b[0m\n\u001b[1;32m    230\u001b[0m     fid \u001b[38;5;241m=\u001b[39m h5f\u001b[38;5;241m.\u001b[39mcreate(name, h5f\u001b[38;5;241m.\u001b[39mACC_EXCL, fapl\u001b[38;5;241m=\u001b[39mfapl, fcpl\u001b[38;5;241m=\u001b[39mfcpl)\n\u001b[1;32m    231\u001b[0m \u001b[38;5;28;01melif\u001b[39;00m mode \u001b[38;5;241m==\u001b[39m \u001b[38;5;124m'\u001b[39m\u001b[38;5;124mw\u001b[39m\u001b[38;5;124m'\u001b[39m:\n\u001b[0;32m--> 232\u001b[0m     fid \u001b[38;5;241m=\u001b[39m \u001b[43mh5f\u001b[49m\u001b[38;5;241;43m.\u001b[39;49m\u001b[43mcreate\u001b[49m\u001b[43m(\u001b[49m\u001b[43mname\u001b[49m\u001b[43m,\u001b[49m\u001b[43m \u001b[49m\u001b[43mh5f\u001b[49m\u001b[38;5;241;43m.\u001b[39;49m\u001b[43mACC_TRUNC\u001b[49m\u001b[43m,\u001b[49m\u001b[43m \u001b[49m\u001b[43mfapl\u001b[49m\u001b[38;5;241;43m=\u001b[39;49m\u001b[43mfapl\u001b[49m\u001b[43m,\u001b[49m\u001b[43m \u001b[49m\u001b[43mfcpl\u001b[49m\u001b[38;5;241;43m=\u001b[39;49m\u001b[43mfcpl\u001b[49m\u001b[43m)\u001b[49m\n\u001b[1;32m    233\u001b[0m \u001b[38;5;28;01melif\u001b[39;00m mode \u001b[38;5;241m==\u001b[39m \u001b[38;5;124m'\u001b[39m\u001b[38;5;124ma\u001b[39m\u001b[38;5;124m'\u001b[39m:\n\u001b[1;32m    234\u001b[0m     \u001b[38;5;66;03m# Open in append mode (read/write).\u001b[39;00m\n\u001b[1;32m    235\u001b[0m     \u001b[38;5;66;03m# If that fails, create a new file only if it won't clobber an\u001b[39;00m\n\u001b[1;32m    236\u001b[0m     \u001b[38;5;66;03m# existing one (ACC_EXCL)\u001b[39;00m\n\u001b[1;32m    237\u001b[0m     \u001b[38;5;28;01mtry\u001b[39;00m:\n",
      "File \u001b[0;32mh5py/_objects.pyx:54\u001b[0m, in \u001b[0;36mh5py._objects.with_phil.wrapper\u001b[0;34m()\u001b[0m\n",
      "File \u001b[0;32mh5py/_objects.pyx:55\u001b[0m, in \u001b[0;36mh5py._objects.with_phil.wrapper\u001b[0;34m()\u001b[0m\n",
      "File \u001b[0;32mh5py/h5f.pyx:126\u001b[0m, in \u001b[0;36mh5py.h5f.create\u001b[0;34m()\u001b[0m\n",
      "\u001b[0;31mFileNotFoundError\u001b[0m: [Errno 2] Unable to create file (unable to open file: name = './results/ae_weights.h5', errno = 2, error message = 'No such file or directory', flags = 13, o_flags = 242)"
     ]
    }
   ],
   "source": [
    "autoencoder.compile(optimizer=pretrain_optimizer, loss='mse')\n",
    "autoencoder.fit(x, x, batch_size=batch_size, epochs=pretrain_epochs) #, callbacks=cb)\n",
    "autoencoder.save_weights(save_dir + '/ae_weights.h5')"
   ]
  },
  {
   "cell_type": "code",
   "execution_count": null,
   "metadata": {},
   "outputs": [],
   "source": [
    "autoencoder.save_weights(save_dir + '/ae_weights.h5')"
   ]
  },
  {
   "cell_type": "markdown",
   "metadata": {},
   "source": [
    "### Load the pre-trained auto encoder weights"
   ]
  },
  {
   "cell_type": "code",
   "execution_count": null,
   "metadata": {},
   "outputs": [],
   "source": [
    "autoencoder.load_weights(save_dir + '/ae_weights.h5')"
   ]
  },
  {
   "cell_type": "markdown",
   "metadata": {},
   "source": [
    "## Build clustering model"
   ]
  },
  {
   "cell_type": "markdown",
   "metadata": {},
   "source": [
    "### ClusteringLayer"
   ]
  },
  {
   "cell_type": "code",
   "execution_count": null,
   "metadata": {},
   "outputs": [],
   "source": [
    "class ClusteringLayer(Layer):\n",
    "    \"\"\"\n",
    "    Clustering layer converts input sample (feature) to soft label, i.e. a vector that represents the probability of the\n",
    "    sample belonging to each cluster. The probability is calculated with student's t-distribution.\n",
    "\n",
    "    # Example\n",
    "    ```\n",
    "        model.add(ClusteringLayer(n_clusters=10))\n",
    "    ```\n",
    "    # Arguments\n",
    "        n_clusters: number of clusters.\n",
    "        weights: list of Numpy array with shape `(n_clusters, n_features)` witch represents the initial cluster centers.\n",
    "        alpha: degrees of freedom parameter in Student's t-distribution. Default to 1.0.\n",
    "    # Input shape\n",
    "        2D tensor with shape: `(n_samples, n_features)`.\n",
    "    # Output shape\n",
    "        2D tensor with shape: `(n_samples, n_clusters)`.\n",
    "    \"\"\"\n",
    "\n",
    "    def __init__(self, n_clusters, weights=None, alpha=1.0, **kwargs):\n",
    "        if 'input_shape' not in kwargs and 'input_dim' in kwargs:\n",
    "            kwargs['input_shape'] = (kwargs.pop('input_dim'),)\n",
    "        super(ClusteringLayer, self).__init__(**kwargs)\n",
    "        self.n_clusters = n_clusters\n",
    "        self.alpha = alpha\n",
    "        self.initial_weights = weights\n",
    "        self.input_spec = InputSpec(ndim=2)\n",
    "\n",
    "    def build(self, input_shape):\n",
    "        assert len(input_shape) == 2\n",
    "        input_dim = input_shape[1]\n",
    "        self.input_spec = InputSpec(dtype=K.floatx(), shape=(None, input_dim))\n",
    "        self.clusters = self.add_weight((self.n_clusters, input_dim), initializer='glorot_uniform', name='clusters')\n",
    "        if self.initial_weights is not None:\n",
    "            self.set_weights(self.initial_weights)\n",
    "            del self.initial_weights\n",
    "        self.built = True\n",
    "\n",
    "    def call(self, inputs, **kwargs):\n",
    "        \"\"\" student t-distribution, as same as used in t-SNE algorithm.\n",
    "         Measure the similarity between embedded point z_i and centroid µ_j.\n",
    "                 q_ij = 1/(1+dist(x_i, µ_j)^2), then normalize it.\n",
    "                 q_ij can be interpreted as the probability of assigning sample i to cluster j.\n",
    "                 (i.e., a soft assignment)\n",
    "        Arguments:\n",
    "            inputs: the variable containing data, shape=(n_samples, n_features)\n",
    "        Return:\n",
    "            q: student's t-distribution, or soft labels for each sample. shape=(n_samples, n_clusters)\n",
    "        \"\"\"\n",
    "        q = 1.0 / (1.0 + (K.sum(K.square(K.expand_dims(inputs, axis=1) - self.clusters), axis=2) / self.alpha))\n",
    "        q **= (self.alpha + 1.0) / 2.0\n",
    "        q = K.transpose(K.transpose(q) / K.sum(q, axis=1)) # Make sure each sample's 10 values add up to 1.\n",
    "        return q\n",
    "\n",
    "    def compute_output_shape(self, input_shape):\n",
    "        assert input_shape and len(input_shape) == 2\n",
    "        return input_shape[0], self.n_clusters\n",
    "\n",
    "    def get_config(self):\n",
    "        config = {'n_clusters': self.n_clusters}\n",
    "        base_config = super(ClusteringLayer, self).get_config()\n",
    "        return dict(list(base_config.items()) + list(config.items()))\n"
   ]
  },
  {
   "cell_type": "code",
   "execution_count": null,
   "metadata": {},
   "outputs": [],
   "source": [
    "clustering_layer = ClusteringLayer(n_clusters, name='clustering')(encoder.output)\n",
    "model = Model(inputs=encoder.input, outputs=clustering_layer)"
   ]
  },
  {
   "cell_type": "code",
   "execution_count": null,
   "metadata": {},
   "outputs": [],
   "source": [
    "from keras.utils import plot_model\n",
    "plot_model(model, to_file='model.png', show_shapes=True)\n",
    "from IPython.display import Image\n",
    "Image(filename='model.png') \n"
   ]
  },
  {
   "cell_type": "code",
   "execution_count": null,
   "metadata": {},
   "outputs": [],
   "source": [
    "model.compile(optimizer=SGD(0.01, 0.9), loss='kld')"
   ]
  },
  {
   "cell_type": "markdown",
   "metadata": {},
   "source": [
    "### Step 1: initialize cluster centers using k-means"
   ]
  },
  {
   "cell_type": "code",
   "execution_count": null,
   "metadata": {},
   "outputs": [],
   "source": [
    "kmeans = KMeans(n_clusters=n_clusters, n_init=20)\n",
    "y_pred = kmeans.fit_predict(encoder.predict(x))"
   ]
  },
  {
   "cell_type": "code",
   "execution_count": null,
   "metadata": {},
   "outputs": [],
   "source": [
    "y_pred_last = np.copy(y_pred)"
   ]
  },
  {
   "cell_type": "code",
   "execution_count": null,
   "metadata": {},
   "outputs": [],
   "source": [
    "model.get_layer(name='clustering').set_weights([kmeans.cluster_centers_])"
   ]
  },
  {
   "cell_type": "markdown",
   "metadata": {},
   "source": [
    "### Step 2: deep clustering\n",
    "Compute p_i by first raising q_i to the second power and then normalizing by frequency per cluster:"
   ]
  },
  {
   "cell_type": "code",
   "execution_count": null,
   "metadata": {},
   "outputs": [],
   "source": [
    "# computing an auxiliary target distribution\n",
    "def target_distribution(q):\n",
    "    weight = q ** 2 / q.sum(0)\n",
    "    return (weight.T / weight.sum(1)).T"
   ]
  },
  {
   "cell_type": "code",
   "execution_count": null,
   "metadata": {},
   "outputs": [],
   "source": [
    "loss = 0\n",
    "index = 0\n",
    "maxiter = 8000\n",
    "update_interval = 140\n",
    "index_array = np.arange(x.shape[0])"
   ]
  },
  {
   "cell_type": "code",
   "execution_count": null,
   "metadata": {},
   "outputs": [],
   "source": [
    "tol = 0.001 # tolerance threshold to stop training"
   ]
  },
  {
   "cell_type": "markdown",
   "metadata": {},
   "source": [
    "### Start training"
   ]
  },
  {
   "cell_type": "code",
   "execution_count": null,
   "metadata": {},
   "outputs": [],
   "source": [
    "for ite in range(int(maxiter)):\n",
    "    if ite % update_interval == 0:\n",
    "        q = model.predict(x, verbose=0)\n",
    "        p = target_distribution(q)  # update the auxiliary target distribution p\n",
    "\n",
    "        # evaluate the clustering performance\n",
    "        y_pred = q.argmax(1)\n",
    "        if y is not None:\n",
    "            acc = np.round(metrics.acc(y, y_pred), 5)\n",
    "            nmi = np.round(metrics.nmi(y, y_pred), 5)\n",
    "            ari = np.round(metrics.ari(y, y_pred), 5)\n",
    "            loss = np.round(loss, 5)\n",
    "            print('Iter %d: acc = %.5f, nmi = %.5f, ari = %.5f' % (ite, acc, nmi, ari), ' ; loss=', loss)\n",
    "\n",
    "        # check stop criterion - model convergence\n",
    "        delta_label = np.sum(y_pred != y_pred_last).astype(np.float32) / y_pred.shape[0]\n",
    "        y_pred_last = np.copy(y_pred)\n",
    "        if ite > 0 and delta_label < tol:\n",
    "            print('delta_label ', delta_label, '< tol ', tol)\n",
    "            print('Reached tolerance threshold. Stopping training.')\n",
    "            break\n",
    "    idx = index_array[index * batch_size: min((index+1) * batch_size, x.shape[0])]\n",
    "    loss = model.train_on_batch(x=x[idx], y=p[idx])\n",
    "    index = index + 1 if (index + 1) * batch_size <= x.shape[0] else 0\n",
    "\n",
    "model.save_weights(save_dir + '/DEC_model_final.h5')"
   ]
  },
  {
   "cell_type": "markdown",
   "metadata": {},
   "source": [
    "### Load the clustering model trained weights"
   ]
  },
  {
   "cell_type": "code",
   "execution_count": null,
   "metadata": {},
   "outputs": [],
   "source": [
    "model.load_weights(save_dir + '/DEC_model_final.h5')"
   ]
  },
  {
   "cell_type": "markdown",
   "metadata": {},
   "source": [
    "### Final Evaluation"
   ]
  },
  {
   "cell_type": "code",
   "execution_count": null,
   "metadata": {},
   "outputs": [],
   "source": [
    "# Eval.\n",
    "q = model.predict(x, verbose=0)\n",
    "p = target_distribution(q)  # update the auxiliary target distribution p\n",
    "\n",
    "# evaluate the clustering performance\n",
    "y_pred = q.argmax(1)\n",
    "if y is not None:\n",
    "    acc = np.round(metrics.acc(y, y_pred), 5)\n",
    "    nmi = np.round(metrics.nmi(y, y_pred), 5)\n",
    "    ari = np.round(metrics.ari(y, y_pred), 5)\n",
    "    loss = np.round(loss, 5)\n",
    "    print('Acc = %.5f, nmi = %.5f, ari = %.5f' % (acc, nmi, ari), ' ; loss=', loss)"
   ]
  },
  {
   "cell_type": "code",
   "execution_count": null,
   "metadata": {},
   "outputs": [],
   "source": [
    "import seaborn as sns\n",
    "import sklearn.metrics\n",
    "import matplotlib.pyplot as plt\n",
    "sns.set(font_scale=3)\n",
    "confusion_matrix = sklearn.metrics.confusion_matrix(y, y_pred)\n",
    "\n",
    "plt.figure(figsize=(16, 14))\n",
    "sns.heatmap(confusion_matrix, annot=True, fmt=\"d\", annot_kws={\"size\": 20});\n",
    "plt.title(\"Confusion matrix\", fontsize=30)\n",
    "plt.ylabel('True label', fontsize=25)\n",
    "plt.xlabel('Clustering label', fontsize=25)\n",
    "plt.show()"
   ]
  },
  {
   "cell_type": "markdown",
   "metadata": {},
   "source": [
    "### Break down Accuracy metric\n",
    "\n",
    "linear assignment- [Munkres' Assignment Algorithm](http://csclab.murraystate.edu/~bob.pilgrim/445/munkres.html)"
   ]
  },
  {
   "cell_type": "code",
   "execution_count": null,
   "metadata": {},
   "outputs": [],
   "source": [
    "from sklearn.utils.linear_assignment_ import linear_assignment\n",
    "\n",
    "y_true = y.astype(np.int64)\n",
    "D = max(y_pred.max(), y_true.max()) + 1\n",
    "w = np.zeros((D, D), dtype=np.int64)\n",
    "# Confusion matrix.\n",
    "for i in range(y_pred.size):\n",
    "    w[y_pred[i], y_true[i]] += 1\n",
    "ind = linear_assignment(-w)\n",
    "\n",
    "sum([w[i, j] for i, j in ind]) * 1.0 / y_pred.size"
   ]
  },
  {
   "cell_type": "code",
   "execution_count": null,
   "metadata": {},
   "outputs": [],
   "source": [
    "w"
   ]
  },
  {
   "cell_type": "code",
   "execution_count": null,
   "metadata": {},
   "outputs": [],
   "source": [
    "ind"
   ]
  },
  {
   "cell_type": "code",
   "execution_count": null,
   "metadata": {},
   "outputs": [],
   "source": [
    "w.argmax(1)"
   ]
  },
  {
   "cell_type": "markdown",
   "metadata": {},
   "source": [
    "## Experimental\n",
    "Convolutional auto encoder."
   ]
  },
  {
   "cell_type": "code",
   "execution_count": null,
   "metadata": {},
   "outputs": [],
   "source": [
    "from keras.models import Model\n",
    "from keras import backend as K\n",
    "from keras import layers\n",
    "from keras.layers import Input, Dense, Conv2D, MaxPooling2D, UpSampling2D, Flatten, Reshape, Conv2DTranspose\n",
    "from keras.models import Model\n",
    "import numpy as np"
   ]
  },
  {
   "cell_type": "markdown",
   "metadata": {},
   "source": [
    "### Convolutional auto encoder option 1\n",
    "Use [`Conv2DTranspose`](https://keras.io/layers/convolutional/#conv2dtranspose) to reconstruct the image."
   ]
  },
  {
   "cell_type": "code",
   "execution_count": null,
   "metadata": {},
   "outputs": [],
   "source": [
    "def autoencoderConv2D_1(input_shape=(28, 28, 1), filters=[32, 64, 128, 10]):\n",
    "    input_img = Input(shape=input_shape)\n",
    "    if input_shape[0] % 8 == 0:\n",
    "        pad3 = 'same'\n",
    "    else:\n",
    "        pad3 = 'valid'\n",
    "    x = Conv2D(filters[0], 5, strides=2, padding='same', activation='relu', name='conv1', input_shape=input_shape)(input_img)\n",
    "\n",
    "    x = Conv2D(filters[1], 5, strides=2, padding='same', activation='relu', name='conv2')(x)\n",
    "\n",
    "    x = Conv2D(filters[2], 3, strides=2, padding=pad3, activation='relu', name='conv3')(x)\n",
    "\n",
    "    x = Flatten()(x)\n",
    "    encoded = Dense(units=filters[3], name='embedding')(x)\n",
    "    x = Dense(units=filters[2]*int(input_shape[0]/8)*int(input_shape[0]/8), activation='relu')(encoded)\n",
    "\n",
    "    x = Reshape((int(input_shape[0]/8), int(input_shape[0]/8), filters[2]))(x)\n",
    "    x = Conv2DTranspose(filters[1], 3, strides=2, padding=pad3, activation='relu', name='deconv3')(x)\n",
    "\n",
    "    x = Conv2DTranspose(filters[0], 5, strides=2, padding='same', activation='relu', name='deconv2')(x)\n",
    "\n",
    "    decoded = Conv2DTranspose(input_shape[2], 5, strides=2, padding='same', name='deconv1')(x)\n",
    "    return Model(inputs=input_img, outputs=decoded, name='AE'), Model(inputs=input_img, outputs=encoded, name='encoder')"
   ]
  },
  {
   "cell_type": "markdown",
   "metadata": {},
   "source": [
    "### Convolutional auto encoder option 2\n",
    "Use [`UpSampling2D`](https://keras.io/layers/convolutional/#upsampling2d) to reconstruct the image."
   ]
  },
  {
   "cell_type": "code",
   "execution_count": null,
   "metadata": {},
   "outputs": [],
   "source": [
    "def autoencoderConv2D_2(img_shape=(28, 28, 1)):\n",
    "    \"\"\"\n",
    "    Conv2D auto-encoder model.\n",
    "    Arguments:\n",
    "        img_shape: e.g. (28, 28, 1) for MNIST\n",
    "    return:\n",
    "        (autoencoder, encoder), Model of autoencoder and model of encoder\n",
    "    \"\"\"\n",
    "    input_img = Input(shape=img_shape)\n",
    "    # Encoder\n",
    "    x = Conv2D(16, (3, 3), activation='relu', padding='same', strides=(2, 2))(input_img)\n",
    "    x = Conv2D(8, (3, 3), activation='relu', padding='same', strides=(2, 2))(x)\n",
    "    x = Conv2D(8, (3, 3), activation='relu', padding='same', strides=(2, 2))(x)\n",
    "    shape_before_flattening = K.int_shape(x)\n",
    "    # at this point the representation is (4, 4, 8) i.e. 128-dimensional\n",
    "    x = Flatten()(x)\n",
    "    encoded = Dense(10, activation='relu', name='encoded')(x)\n",
    "\n",
    "    # Decoder\n",
    "    x = Dense(np.prod(shape_before_flattening[1:]),\n",
    "                activation='relu')(encoded)\n",
    "    # Reshape into an image of the same shape as before our last `Flatten` layer\n",
    "    x = Reshape(shape_before_flattening[1:])(x)\n",
    "\n",
    "    x = Conv2D(8, (3, 3), activation='relu', padding='same')(x)\n",
    "    x = UpSampling2D((2, 2))(x)\n",
    "    x = Conv2D(8, (3, 3), activation='relu', padding='same')(x)\n",
    "    x = UpSampling2D((2, 2))(x)\n",
    "    x = Conv2D(16, (3, 3), activation='relu')(x)\n",
    "    x = UpSampling2D((2, 2))(x)\n",
    "    decoded = Conv2D(1, (3, 3), activation='sigmoid', padding='same')(x)\n",
    "\n",
    "    return Model(inputs=input_img, outputs=decoded, name='AE'), Model(inputs=input_img, outputs=encoded, name='encoder')\n"
   ]
  },
  {
   "cell_type": "markdown",
   "metadata": {},
   "source": [
    "### Pick a convolutional autoencoder\n",
    "`autoencoderConv2D_1` or `autoencoderConv2D_2`"
   ]
  },
  {
   "cell_type": "code",
   "execution_count": null,
   "metadata": {},
   "outputs": [],
   "source": [
    "autoencoder, encoder = autoencoderConv2D_1()"
   ]
  },
  {
   "cell_type": "code",
   "execution_count": null,
   "metadata": {},
   "outputs": [],
   "source": [
    "autoencoder.summary()"
   ]
  },
  {
   "cell_type": "markdown",
   "metadata": {},
   "source": [
    "### Load MNIST data for convolutional input"
   ]
  },
  {
   "cell_type": "code",
   "execution_count": null,
   "metadata": {},
   "outputs": [],
   "source": [
    "from keras.datasets import mnist\n",
    "\n",
    "(x_train, y_train), (x_test, y_test) = mnist.load_data()\n",
    "\n",
    "x = np.concatenate((x_train, x_test))\n",
    "y = np.concatenate((y_train, y_test))\n",
    "x = x.reshape(x.shape + (1,))\n",
    "x = np.divide(x, 255.)"
   ]
  },
  {
   "cell_type": "markdown",
   "metadata": {},
   "source": [
    "### Pretrain covolutional autoencoder"
   ]
  },
  {
   "cell_type": "code",
   "execution_count": null,
   "metadata": {},
   "outputs": [],
   "source": [
    "pretrain_epochs = 100\n",
    "batch_size = 256"
   ]
  },
  {
   "cell_type": "code",
   "execution_count": null,
   "metadata": {},
   "outputs": [],
   "source": [
    "autoencoder.compile(optimizer='adadelta', loss='mse')"
   ]
  },
  {
   "cell_type": "code",
   "execution_count": null,
   "metadata": {
    "scrolled": true
   },
   "outputs": [],
   "source": [
    "autoencoder.fit(x, x, batch_size=batch_size, epochs=pretrain_epochs)\n",
    "autoencoder.save_weights(save_dir+'/conv_ae_weights.h5')"
   ]
  },
  {
   "cell_type": "code",
   "execution_count": null,
   "metadata": {},
   "outputs": [],
   "source": [
    "autoencoder.load_weights(save_dir+'/conv_ae_weights.h5')"
   ]
  },
  {
   "cell_type": "markdown",
   "metadata": {},
   "source": [
    "### Build clustering model with convolutional autoencoder"
   ]
  },
  {
   "cell_type": "code",
   "execution_count": null,
   "metadata": {},
   "outputs": [],
   "source": [
    "clustering_layer = ClusteringLayer(n_clusters, name='clustering')(encoder.output)\n",
    "model = Model(inputs=encoder.input, outputs=clustering_layer)\n",
    "model.compile(optimizer='adam', loss='kld')"
   ]
  },
  {
   "cell_type": "markdown",
   "metadata": {},
   "source": [
    "### Step 1: initialize cluster centers using k-means"
   ]
  },
  {
   "cell_type": "code",
   "execution_count": null,
   "metadata": {},
   "outputs": [],
   "source": [
    "kmeans = KMeans(n_clusters=n_clusters, n_init=20)\n",
    "y_pred = kmeans.fit_predict(encoder.predict(x))"
   ]
  },
  {
   "cell_type": "code",
   "execution_count": null,
   "metadata": {},
   "outputs": [],
   "source": [
    "y_pred_last = np.copy(y_pred)"
   ]
  },
  {
   "cell_type": "code",
   "execution_count": null,
   "metadata": {},
   "outputs": [],
   "source": [
    "model.get_layer(name='clustering').set_weights([kmeans.cluster_centers_])"
   ]
  },
  {
   "cell_type": "markdown",
   "metadata": {},
   "source": [
    "### Step 2: deep clustering"
   ]
  },
  {
   "cell_type": "code",
   "execution_count": null,
   "metadata": {},
   "outputs": [],
   "source": [
    "loss = 0\n",
    "index = 0\n",
    "maxiter = 8000\n",
    "update_interval = 140\n",
    "index_array = np.arange(x.shape[0])"
   ]
  },
  {
   "cell_type": "code",
   "execution_count": null,
   "metadata": {},
   "outputs": [],
   "source": [
    "tol = 0.001 # tolerance threshold to stop training"
   ]
  },
  {
   "cell_type": "markdown",
   "metadata": {},
   "source": [
    "### Start training"
   ]
  },
  {
   "cell_type": "code",
   "execution_count": null,
   "metadata": {},
   "outputs": [],
   "source": [
    "for ite in range(int(maxiter)):\n",
    "    if ite % update_interval == 0:\n",
    "        q = model.predict(x, verbose=0)\n",
    "        p = target_distribution(q)  # update the auxiliary target distribution p\n",
    "\n",
    "        # evaluate the clustering performance\n",
    "        y_pred = q.argmax(1)\n",
    "        if y is not None:\n",
    "            acc = np.round(metrics.acc(y, y_pred), 5)\n",
    "            nmi = np.round(metrics.nmi(y, y_pred), 5)\n",
    "            ari = np.round(metrics.ari(y, y_pred), 5)\n",
    "            loss = np.round(loss, 5)\n",
    "            print('Iter %d: acc = %.5f, nmi = %.5f, ari = %.5f' % (ite, acc, nmi, ari), ' ; loss=', loss)\n",
    "\n",
    "        # check stop criterion\n",
    "        delta_label = np.sum(y_pred != y_pred_last).astype(np.float32) / y_pred.shape[0]\n",
    "        y_pred_last = np.copy(y_pred)\n",
    "        if ite > 0 and delta_label < tol:\n",
    "            print('delta_label ', delta_label, '< tol ', tol)\n",
    "            print('Reached tolerance threshold. Stopping training.')\n",
    "            break\n",
    "    idx = index_array[index * batch_size: min((index+1) * batch_size, x.shape[0])]\n",
    "    loss = model.train_on_batch(x=x[idx], y=p[idx])\n",
    "    index = index + 1 if (index + 1) * batch_size <= x.shape[0] else 0\n",
    "\n",
    "model.save_weights(save_dir + '/conv_DEC_model_final.h5')"
   ]
  },
  {
   "cell_type": "markdown",
   "metadata": {},
   "source": [
    "### Load the clustering model trained weights"
   ]
  },
  {
   "cell_type": "code",
   "execution_count": null,
   "metadata": {},
   "outputs": [],
   "source": [
    "model.load_weights(save_dir + '/conv_DEC_model_final.h5')"
   ]
  },
  {
   "cell_type": "markdown",
   "metadata": {},
   "source": [
    "### Final Evaluation"
   ]
  },
  {
   "cell_type": "code",
   "execution_count": null,
   "metadata": {},
   "outputs": [],
   "source": [
    "# Eval.\n",
    "q = model.predict(x, verbose=0)\n",
    "p = target_distribution(q)  # update the auxiliary target distribution p\n",
    "\n",
    "# evaluate the clustering performance\n",
    "y_pred = q.argmax(1)\n",
    "if y is not None:\n",
    "    acc = np.round(metrics.acc(y, y_pred), 5)\n",
    "    nmi = np.round(metrics.nmi(y, y_pred), 5)\n",
    "    ari = np.round(metrics.ari(y, y_pred), 5)\n",
    "    loss = np.round(loss, 5)\n",
    "    print('Acc = %.5f, nmi = %.5f, ari = %.5f' % (acc, nmi, ari), ' ; loss=', loss)"
   ]
  },
  {
   "cell_type": "code",
   "execution_count": null,
   "metadata": {},
   "outputs": [],
   "source": [
    "import seaborn as sns\n",
    "import sklearn.metrics\n",
    "import matplotlib.pyplot as plt\n",
    "sns.set(font_scale=3)\n",
    "confusion_matrix = sklearn.metrics.confusion_matrix(y, y_pred)\n",
    "\n",
    "plt.figure(figsize=(16, 14))\n",
    "sns.heatmap(confusion_matrix, annot=True, fmt=\"d\", annot_kws={\"size\": 20});\n",
    "plt.title(\"Confusion matrix\", fontsize=30)\n",
    "plt.ylabel('True label', fontsize=25)\n",
    "plt.xlabel('Clustering label', fontsize=25)\n",
    "plt.show()"
   ]
  },
  {
   "cell_type": "markdown",
   "metadata": {},
   "source": [
    "## Model to train clustering and autoencoder at same time(Convolutional)\n",
    "Multiple outputs model."
   ]
  },
  {
   "cell_type": "code",
   "execution_count": null,
   "metadata": {},
   "outputs": [],
   "source": [
    "autoencoder, encoder = autoencoderConv2D_1()\n",
    "autoencoder.load_weights(save_dir+'/conv_ae_weights.h5')\n",
    "clustering_layer = ClusteringLayer(n_clusters, name='clustering')(encoder.output)\n",
    "model = Model(inputs=encoder.input,\n",
    "                           outputs=[clustering_layer, autoencoder.output])"
   ]
  },
  {
   "cell_type": "code",
   "execution_count": null,
   "metadata": {},
   "outputs": [],
   "source": [
    "from keras.utils import plot_model\n",
    "plot_model(model, to_file='model.png', show_shapes=True)\n",
    "from IPython.display import Image\n",
    "Image(filename='model.png') \n"
   ]
  },
  {
   "cell_type": "markdown",
   "metadata": {},
   "source": [
    "### Initialize cluster centers using k-means"
   ]
  },
  {
   "cell_type": "code",
   "execution_count": null,
   "metadata": {},
   "outputs": [],
   "source": [
    "kmeans = KMeans(n_clusters=n_clusters, n_init=20)\n",
    "y_pred = kmeans.fit_predict(encoder.predict(x))\n",
    "model.get_layer(name='clustering').set_weights([kmeans.cluster_centers_])\n",
    "y_pred_last = np.copy(y_pred)"
   ]
  },
  {
   "cell_type": "code",
   "execution_count": null,
   "metadata": {},
   "outputs": [],
   "source": [
    "model.compile(loss=['kld', 'mse'], loss_weights=[0.1, 1], optimizer='adam')"
   ]
  },
  {
   "cell_type": "code",
   "execution_count": null,
   "metadata": {},
   "outputs": [],
   "source": [
    "for ite in range(int(maxiter)):\n",
    "    if ite % update_interval == 0:\n",
    "        q, _  = model.predict(x, verbose=0)\n",
    "        p = target_distribution(q)  # update the auxiliary target distribution p\n",
    "\n",
    "        # evaluate the clustering performance\n",
    "        y_pred = q.argmax(1)\n",
    "        if y is not None:\n",
    "            acc = np.round(metrics.acc(y, y_pred), 5)\n",
    "            nmi = np.round(metrics.nmi(y, y_pred), 5)\n",
    "            ari = np.round(metrics.ari(y, y_pred), 5)\n",
    "            loss = np.round(loss, 5)\n",
    "            print('Iter %d: acc = %.5f, nmi = %.5f, ari = %.5f' % (ite, acc, nmi, ari), ' ; loss=', loss)\n",
    "\n",
    "        # check stop criterion\n",
    "        delta_label = np.sum(y_pred != y_pred_last).astype(np.float32) / y_pred.shape[0]\n",
    "        y_pred_last = np.copy(y_pred)\n",
    "        if ite > 0 and delta_label < tol:\n",
    "            print('delta_label ', delta_label, '< tol ', tol)\n",
    "            print('Reached tolerance threshold. Stopping training.')\n",
    "            break\n",
    "    idx = index_array[index * batch_size: min((index+1) * batch_size, x.shape[0])]\n",
    "    loss = model.train_on_batch(x=x[idx], y=[p[idx], x[idx]])\n",
    "    index = index + 1 if (index + 1) * batch_size <= x.shape[0] else 0\n",
    "\n",
    "model.save_weights(save_dir + '/conv_b_DEC_model_final.h5')"
   ]
  },
  {
   "cell_type": "markdown",
   "metadata": {},
   "source": [
    "### Load the clustering model trained weights"
   ]
  },
  {
   "cell_type": "code",
   "execution_count": null,
   "metadata": {},
   "outputs": [],
   "source": [
    "model.load_weights(save_dir + '/conv_b_DEC_model_final.h5')"
   ]
  },
  {
   "cell_type": "markdown",
   "metadata": {},
   "source": [
    "### Final Evaluation"
   ]
  },
  {
   "cell_type": "code",
   "execution_count": null,
   "metadata": {},
   "outputs": [],
   "source": [
    "# Eval.\n",
    "q, _ = model.predict(x, verbose=0)\n",
    "p = target_distribution(q)  # update the auxiliary target distribution p\n",
    "\n",
    "# evaluate the clustering performance\n",
    "y_pred = q.argmax(1)\n",
    "if y is not None:\n",
    "    acc = np.round(metrics.acc(y, y_pred), 5)\n",
    "    nmi = np.round(metrics.nmi(y, y_pred), 5)\n",
    "    ari = np.round(metrics.ari(y, y_pred), 5)\n",
    "    loss = np.round(loss, 5)\n",
    "    print('Acc = %.5f, nmi = %.5f, ari = %.5f' % (acc, nmi, ari), ' ; loss=', loss)"
   ]
  },
  {
   "cell_type": "code",
   "execution_count": null,
   "metadata": {},
   "outputs": [],
   "source": [
    "import seaborn as sns\n",
    "import sklearn.metrics\n",
    "import matplotlib.pyplot as plt\n",
    "sns.set(font_scale=3)\n",
    "confusion_matrix = sklearn.metrics.confusion_matrix(y, y_pred)\n",
    "\n",
    "plt.figure(figsize=(16, 14))\n",
    "sns.heatmap(confusion_matrix, annot=True, fmt=\"d\", annot_kws={\"size\": 20});\n",
    "plt.title(\"Confusion matrix\", fontsize=30)\n",
    "plt.ylabel('True label', fontsize=25)\n",
    "plt.xlabel('Clustering label', fontsize=25)\n",
    "plt.show()"
   ]
  },
  {
   "cell_type": "markdown",
   "metadata": {},
   "source": [
    "## Model to train clustering and autoencoder at same time(Fully connected)\n",
    "Multiple outputs model."
   ]
  },
  {
   "cell_type": "code",
   "execution_count": null,
   "metadata": {},
   "outputs": [],
   "source": [
    "(x_train, y_train), (x_test, y_test) = mnist.load_data()\n",
    "\n",
    "x = np.concatenate((x_train, x_test))\n",
    "y = np.concatenate((y_train, y_test))\n",
    "x = x.reshape((x.shape[0], -1))\n",
    "x = np.divide(x, 255.)\n",
    "n_clusters = len(np.unique(y))\n",
    "x.shape"
   ]
  },
  {
   "cell_type": "code",
   "execution_count": null,
   "metadata": {},
   "outputs": [],
   "source": [
    "dims = [x.shape[-1], 500, 500, 2000, 10]\n",
    "init = VarianceScaling(scale=1. / 3., mode='fan_in',\n",
    "                           distribution='uniform')\n",
    "pretrain_optimizer = SGD(lr=1, momentum=0.9)\n",
    "pretrain_epochs = 300\n",
    "batch_size = 256\n",
    "save_dir = './results'"
   ]
  },
  {
   "cell_type": "code",
   "execution_count": null,
   "metadata": {},
   "outputs": [],
   "source": [
    "\n",
    "def autoencoder(dims, act='relu', init='glorot_uniform'):\n",
    "    \"\"\"\n",
    "    Fully connected auto-encoder model, symmetric.\n",
    "    Arguments:\n",
    "        dims: list of number of units in each layer of encoder. dims[0] is input dim, dims[-1] is units in hidden layer.\n",
    "            The decoder is symmetric with encoder. So number of layers of the auto-encoder is 2*len(dims)-1\n",
    "        act: activation, not applied to Input, Hidden and Output layers\n",
    "    return:\n",
    "        (ae_model, encoder_model), Model of autoencoder and model of encoder\n",
    "    \"\"\"\n",
    "    n_stacks = len(dims) - 1\n",
    "    # input\n",
    "    input_img = Input(shape=(dims[0],), name='input')\n",
    "    x = input_img\n",
    "    # internal layers in encoder\n",
    "    for i in range(n_stacks-1):\n",
    "        x = Dense(dims[i + 1], activation=act, kernel_initializer=init, name='encoder_%d' % i)(x)\n",
    "\n",
    "    # hidden layer\n",
    "    encoded = Dense(dims[-1], kernel_initializer=init, name='encoder_%d' % (n_stacks - 1))(x)  # hidden layer, features are extracted from here\n",
    "\n",
    "    x = encoded\n",
    "    # internal layers in decoder\n",
    "    for i in range(n_stacks-1, 0, -1):\n",
    "        x = Dense(dims[i], activation=act, kernel_initializer=init, name='decoder_%d' % i)(x)\n",
    "\n",
    "    # output\n",
    "    x = Dense(dims[0], kernel_initializer=init, name='decoder_0')(x)\n",
    "    decoded = x\n",
    "    return Model(inputs=input_img, outputs=decoded, name='AE'), Model(inputs=input_img, outputs=encoded, name='encoder')\n"
   ]
  },
  {
   "cell_type": "code",
   "execution_count": null,
   "metadata": {},
   "outputs": [],
   "source": [
    "autoencoder, encoder = autoencoder(dims, init=init)\n",
    "autoencoder.load_weights(save_dir+'/ae_weights.h5')\n",
    "clustering_layer = ClusteringLayer(n_clusters, name='clustering')(encoder.output)\n",
    "model = Model(inputs=encoder.input,\n",
    "            outputs=[clustering_layer, autoencoder.output])"
   ]
  },
  {
   "cell_type": "code",
   "execution_count": null,
   "metadata": {},
   "outputs": [],
   "source": [
    "from keras.utils import plot_model\n",
    "plot_model(model, to_file='model.png', show_shapes=True)\n",
    "from IPython.display import Image\n",
    "Image(filename='model.png') "
   ]
  },
  {
   "cell_type": "markdown",
   "metadata": {},
   "source": [
    "### Initialize cluster centers using k-means"
   ]
  },
  {
   "cell_type": "code",
   "execution_count": null,
   "metadata": {},
   "outputs": [],
   "source": [
    "kmeans = KMeans(n_clusters=n_clusters, n_init=20)\n",
    "y_pred = kmeans.fit_predict(encoder.predict(x))\n",
    "model.get_layer(name='clustering').set_weights([kmeans.cluster_centers_])\n",
    "y_pred_last = np.copy(y_pred)"
   ]
  },
  {
   "cell_type": "code",
   "execution_count": null,
   "metadata": {},
   "outputs": [],
   "source": [
    "model.compile(loss=['kld', 'mse'], loss_weights=[0.1, 1], optimizer=pretrain_optimizer)"
   ]
  },
  {
   "cell_type": "code",
   "execution_count": null,
   "metadata": {},
   "outputs": [],
   "source": [
    "for ite in range(int(maxiter)):\n",
    "    if ite % update_interval == 0:\n",
    "        q, _  = model.predict(x, verbose=0)\n",
    "        p = target_distribution(q)  # update the auxiliary target distribution p\n",
    "\n",
    "        # evaluate the clustering performance\n",
    "        y_pred = q.argmax(1)\n",
    "        if y is not None:\n",
    "            acc = np.round(metrics.acc(y, y_pred), 5)\n",
    "            nmi = np.round(metrics.nmi(y, y_pred), 5)\n",
    "            ari = np.round(metrics.ari(y, y_pred), 5)\n",
    "            loss = np.round(loss, 5)\n",
    "            print('Iter %d: acc = %.5f, nmi = %.5f, ari = %.5f' % (ite, acc, nmi, ari), ' ; loss=', loss)\n",
    "\n",
    "        # check stop criterion\n",
    "        delta_label = np.sum(y_pred != y_pred_last).astype(np.float32) / y_pred.shape[0]\n",
    "        y_pred_last = np.copy(y_pred)\n",
    "        if ite > 0 and delta_label < tol:\n",
    "            print('delta_label ', delta_label, '< tol ', tol)\n",
    "            print('Reached tolerance threshold. Stopping training.')\n",
    "            break\n",
    "    idx = index_array[index * batch_size: min((index+1) * batch_size, x.shape[0])]\n",
    "    loss = model.train_on_batch(x=x[idx], y=[p[idx], x[idx]])\n",
    "    index = index + 1 if (index + 1) * batch_size <= x.shape[0] else 0\n",
    "\n",
    "model.save_weights(save_dir + '/b_DEC_model_final.h5')"
   ]
  },
  {
   "cell_type": "markdown",
   "metadata": {},
   "source": [
    "### Load the clustering model trained weights"
   ]
  },
  {
   "cell_type": "code",
   "execution_count": null,
   "metadata": {},
   "outputs": [],
   "source": [
    "model.load_weights(save_dir + '/b_DEC_model_final.h5')"
   ]
  },
  {
   "cell_type": "markdown",
   "metadata": {},
   "source": [
    "### Final Evaluation"
   ]
  },
  {
   "cell_type": "code",
   "execution_count": null,
   "metadata": {},
   "outputs": [],
   "source": [
    "# Eval.\n",
    "q, _ = model.predict(x, verbose=0)\n",
    "p = target_distribution(q)  # update the auxiliary target distribution p\n",
    "\n",
    "# evaluate the clustering performance\n",
    "y_pred = q.argmax(1)\n",
    "if y is not None:\n",
    "    acc = np.round(metrics.acc(y, y_pred), 5)\n",
    "    nmi = np.round(metrics.nmi(y, y_pred), 5)\n",
    "    ari = np.round(metrics.ari(y, y_pred), 5)\n",
    "    loss = np.round(loss, 5)\n",
    "    print('Acc = %.5f, nmi = %.5f, ari = %.5f' % (acc, nmi, ari), ' ; loss=', loss)"
   ]
  },
  {
   "cell_type": "code",
   "execution_count": null,
   "metadata": {},
   "outputs": [],
   "source": [
    "import seaborn as sns\n",
    "import sklearn.metrics\n",
    "import matplotlib.pyplot as plt\n",
    "sns.set(font_scale=3)\n",
    "confusion_matrix = sklearn.metrics.confusion_matrix(y, y_pred)\n",
    "\n",
    "plt.figure(figsize=(16, 14))\n",
    "sns.heatmap(confusion_matrix, annot=True, fmt=\"d\", annot_kws={\"size\": 20});\n",
    "plt.title(\"Confusion matrix\", fontsize=30)\n",
    "plt.ylabel('True label', fontsize=25)\n",
    "plt.xlabel('Clustering label', fontsize=25)\n",
    "plt.show()"
   ]
  },
  {
   "cell_type": "code",
   "execution_count": null,
   "metadata": {},
   "outputs": [],
   "source": []
  },
  {
   "cell_type": "code",
   "execution_count": null,
   "metadata": {},
   "outputs": [],
   "source": []
  },
  {
   "cell_type": "code",
   "execution_count": null,
   "metadata": {},
   "outputs": [],
   "source": []
  },
  {
   "cell_type": "code",
   "execution_count": null,
   "metadata": {},
   "outputs": [],
   "source": []
  },
  {
   "cell_type": "code",
   "execution_count": null,
   "metadata": {},
   "outputs": [],
   "source": []
  },
  {
   "cell_type": "code",
   "execution_count": null,
   "metadata": {},
   "outputs": [],
   "source": []
  },
  {
   "cell_type": "code",
   "execution_count": null,
   "metadata": {},
   "outputs": [],
   "source": []
  }
 ],
 "metadata": {
  "kernelspec": {
   "display_name": "AiNeis",
   "language": "python",
   "name": "aineis"
  },
  "language_info": {
   "codemirror_mode": {
    "name": "ipython",
    "version": 3
   },
   "file_extension": ".py",
   "mimetype": "text/x-python",
   "name": "python",
   "nbconvert_exporter": "python",
   "pygments_lexer": "ipython3",
   "version": "3.8.0"
  }
 },
 "nbformat": 4,
 "nbformat_minor": 4
}
